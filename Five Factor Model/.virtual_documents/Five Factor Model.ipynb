# Import libraries
# Built-in libraries except for yf

import pandas as pd
import numpy as np
import statsmodels.api as sm
import yfinance as yf # Easy to pip install in terminal/command line


# INPUT DATA HERE

# Paste in YOUR local storage path for FF-dataset.csv file
ff_dataset_path = "/YOUR/FILEPATH/HERE/FF-Dataset.csv"


# Date range for stock data
start_date = '2022-10-01'
end_date = '2024-10-01'


# Tickers & their weight in the portfolio
tickers = ['UTHR', 'REGN', 'GILD'] #'LBPH', 'KO', 'ADMR.JK', 'BRK-B', 'TSM', 'ASML']  # Example tickers (can add however many you want)
invested = [150000, 50000, 50000] # In USD
total_invested = sum(invested)
cash = 1000000 - total_invested

# Calculate weights as a proportion of the total invested
weights = [amount / total_invested for amount in invested]


stock_data = pd.DataFrame()

for ticker in tickers:
    # Fetch stock data
    data = yf.download(ticker, start=start_date, end=end_date, interval = '1wk')
    data['Returns'] = data['Adj Close'].pct_change()  # Calculate returns
    stock_data[ticker] = data['Returns']  # Add returns to the DataFrame

# Calculate portfolio returns
stock_data['Portfolio Returns'] = stock_data[tickers].dot(weights)  # Weighted average of returns

# Drop NaN values
stock_data.dropna(inplace=True)

# Fetch the FF5 data set csv
ff_factors = pd.read_csv(ff_dataset_path, skiprows=3)

# Formatting the dataframe
ff_factors.columns = ['Date', 'Mkt-RF', 'SMB', 'HML', 'RMW', 'CMA', 'RF']

# Clean the FF factors data
ff_factors = ff_factors.dropna(subset=['Date'])
ff_factors = ff_factors[ff_factors['Date'].str.isnumeric()]
ff_factors['Date'] = pd.to_datetime(ff_factors['Date'], format='%Y%m')

# Convert 'Date' column to datetime
ff_factors['Date'] = pd.to_datetime(ff_factors['Date'], format = '%Y%m')

# Convert factor columns to numeric (they might have been loaded as strings)
factor_columns = ['Mkt-RF', 'SMB', 'HML', 'RMW', 'CMA', 'RF']
ff_factors[factor_columns] = ff_factors[factor_columns].apply(pd.to_numeric, errors = 'coerce')

# Set 'Date' as the index
ff_factors.set_index('Date', inplace = True)

# Merge FF factors with stock returns
combined_data = pd.merge(stock_data['Portfolio Returns'], ff_factors, left_index = True, right_index = True)

# Excess returns = (Stock returns – risk-free rate)
combined_data['Excess Returns'] = combined_data['Portfolio Returns'] - combined_data['RF'] / 100

# Define the independent variables (factors) and dependent variable (excess returns)
X = combined_data[['Mkt-RF', 'SMB', 'HML', 'RMW', 'CMA']]
y = combined_data['Excess Returns']

# Add a constant term for the intercept in the regression model
X = sm.add_constant(X)

# Run the regression (Ordinary Least Squares - OLS)
model = sm.OLS(y, X).fit()


# Function to track price reversals

def price_reversals(stock_data, days=28):  # Default to <4 weeks
    # Calculate daily price changes based on portfolio returns
    stock_data['Price Change'] = stock_data['Portfolio Returns']  # Using portfolio returns directly
    stock_data['Price Direction'] = stock_data['Price Change'].apply(lambda x: 1 if x > 0 else -1)  # 1 for up, -1 for down

    reversal_count = 0
    total_count = 0

    # Loop through the data for the specified number of days
    for i in range(days, len(stock_data)):
        if stock_data['Price Direction'].iloc[i] != stock_data['Price Direction'].iloc[i - days]:
            reversal_count += 1
        total_count += 1

    if total_count > 0:
        likelihood = (reversal_count / total_count) * 100
    else:
        likelihood = 0

    return likelihood, reversal_count, total_count

# Call the function for <2, <4, & <6 weeks
likelihood_2_weeks, reversals_2_weeks, total_2_weeks = price_reversals(stock_data, days=14)  # <2 weeks
likelihood_4_weeks, reversals_4_weeks, total_4_weeks = price_reversals(stock_data, days=28)  # <4 weeks
likelihood_6_weeks, reversals_6_weeks, total_6_weeks = price_reversals(stock_data, days=42)  # <6 weeks


# Summary of the OLS regression results
def ols_summary(model):
    print("### OLS Regression Highlights ###")
    print(" ") # Just a spacer line
    
    # Key metrics
    r_squared = model.rsquared
    adj_r_squared = model.rsquared_adj
    f_statistic = model.fvalue
    p_value = model.f_pvalue
    coef_summary = model.summary2().tables[1]  # Get coefficient summary
    
    # Extract important coefficients and p-values
    const_coef = coef_summary.loc['const', 'Coef.']
    const_pval = coef_summary.loc['const', 'P>|t|']
    mkt_rf_coef = coef_summary.loc['Mkt-RF', 'Coef.']
    mkt_rf_pval = coef_summary.loc['Mkt-RF', 'P>|t|']
    
    # Print key metrics
    print(f"1. R-squared: {r_squared:.3f} (Explains {r_squared * 100:.2f}% of the variance in excess returns)")
    print(" ")
    
    print(f"2. Adjusted R-squared: {adj_r_squared:.3f}")
    print(" ")
    
    print(f"3. F-statistic: {f_statistic:.3f} (p-value: {p_value:.3f}) - Overall model significance")
    print(" ")
    
    # Coefficient interpretation
    print(f"4. Constant term (Intercept): {const_coef:.6f} (p-value: {const_pval:.3f}) - Represents the expected excess return when all factors are zero.")
    print(" ")
    
    print(f"5. Market Risk Premium (Mkt-RF): {mkt_rf_coef:.6f} (p-value: {mkt_rf_pval:.3f}) - Indicates the expected change in excess returns for a 1% increase in market risk premium.")


# Display full OLS regression results
print(model.summary())
print(" ")
print("**************************************************************************************")
print(" ")

# Call the summary function
ols_summary(model)
print(" ")
print("**************************************************************************************")
print(" ")

# Print chances of short-term reversals
print("### Short-Term Price Reversals Chances ###")
print(" ")

print(f"1. Price reversals in < 2 weeks: {reversals_2_weeks} out of {total_2_weeks} observations ({likelihood_2_weeks:.2f}% likelihood)")
print(" ")

print(f"2. Price reversals in < 4 weeks: {reversals_4_weeks} out of {total_4_weeks} observations ({likelihood_4_weeks:.2f}% likelihood)")
print(" ")

print(f"3. Price reversals in < 6 weeks: {reversals_6_weeks} out of {total_6_weeks} observations ({likelihood_6_weeks:.2f}% likelihood)")



